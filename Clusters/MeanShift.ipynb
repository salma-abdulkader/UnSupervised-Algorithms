{
  "nbformat": 4,
  "nbformat_minor": 0,
  "metadata": {
    "colab": {
      "provenance": [],
      "toc_visible": true
    },
    "kernelspec": {
      "name": "python3",
      "display_name": "Python 3"
    },
    "language_info": {
      "name": "python"
    }
  },
  "cells": [
    {
      "cell_type": "code",
      "source": [
        "'''\n",
        "\n",
        "1-> Generate the dataset:- Using make_blobs to create a sample dataset.\n",
        "2-> Estimate the bandwidth:- Using estimate_bandwidth to determine the bandwidth parameter for MeanShift.\n",
        "3-> Fit the MeanShift model:- Using the MeanShift algorithm to cluster the data.\n",
        "4-> Visualize the results:- Plot the clusters to see the results. \"choice\"\n",
        "\n",
        "'''"
      ],
      "metadata": {
        "colab": {
          "base_uri": "https://localhost:8080/",
          "height": 72
        },
        "id": "4gkAhTWA2SdS",
        "outputId": "8286f89f-272f-4906-ec6f-767c7035c7f0"
      },
      "execution_count": 18,
      "outputs": [
        {
          "output_type": "execute_result",
          "data": {
            "text/plain": [
              "'\\n\\n1-> Generate the dataset:- Using make_blobs to create a sample dataset.\\n2-> Estimate the bandwidth:- Using estimate_bandwidth to determine the bandwidth parameter for MeanShift.\\n3-> Fit the MeanShift model:- Using the MeanShift algorithm to cluster the data.\\n4-> Visualize the results:- Plot the clusters to see the results. \"choice\"\\n\\n'"
            ],
            "application/vnd.google.colaboratory.intrinsic+json": {
              "type": "string"
            }
          },
          "metadata": {},
          "execution_count": 18
        }
      ]
    },
    {
      "cell_type": "code",
      "source": [
        "import numpy as np\n",
        "from sklearn.datasets import make_blobs\n",
        "from sklearn.cluster import MeanShift, estimate_bandwidth"
      ],
      "metadata": {
        "id": "9l2hXIn6WBhH"
      },
      "execution_count": 19,
      "outputs": []
    },
    {
      "cell_type": "code",
      "source": [
        "# Generating data samples\n",
        "coordinates = [[4,10], [2,5], [1,2], [10,20], [10,15], [3,8], [5,8]]\n",
        "# another_coordinate = [[1,2,4], [2,4,7], [4,0,3]]\n",
        "x, _ = make_blobs(n_samples = 100, centers = coordinates, cluster_std = 0.60)"
      ],
      "metadata": {
        "id": "ZQpa5iTIWBkP"
      },
      "execution_count": 22,
      "outputs": []
    },
    {
      "cell_type": "code",
      "source": [
        "# Estimate bandwidth\n",
        "bandwidth = estimate_bandwidth(x, quantile = 0.2, n_samples = len(x))\n",
        "\n",
        "'''\n",
        "Quantile parameter:\n",
        "This parameter is between 0 and 1.\n",
        "it determine the fraction of datapoint used to estimate the bandwidth, which is the radius of the neighborhood around each point.\n",
        "\n",
        "Practical Use: Adjusting the quantile helps control the clustering algorithm's sensitivity to data scale and point density.\n",
        "In essence, the quantile parameter fine-tunes how broadly or narrowly the MeanShift algorithm considers neighborhoods around\n",
        "data points, affecting the resulting number of clusters.\n",
        "\n",
        "High Quantile: Larger bandwidth, fewer clusters, as more points are grouped together.\n",
        "Low Quantile: Smaller bandwidth, more clusters, as fewer points are grouped together.\n",
        "'''\n"
      ],
      "metadata": {
        "id": "F7TlBXTlWBm2",
        "colab": {
          "base_uri": "https://localhost:8080/",
          "height": 127
        },
        "collapsed": true,
        "outputId": "17ceb47d-ef2f-4233-afbd-4677141bc77d"
      },
      "execution_count": 32,
      "outputs": [
        {
          "output_type": "execute_result",
          "data": {
            "text/plain": [
              "\"\\nQuantile parameter:\\nThis parameter is between 0 and 1.\\nit determine the fraction of datapoint used to estimate the bandwidth, which is the radius of the neighborhood around each point.\\n\\nPractical Use: Adjusting the quantile helps control the clustering algorithm's sensitivity to data scale and point density.\\nIn essence, the quantile parameter fine-tunes how broadly or narrowly the MeanShift algorithm considers neighborhoods around\\ndata points, affecting the resulting number of clusters.\\n\\nHigh Quantile: Larger bandwidth, fewer clusters, as more points are grouped together.\\nLow Quantile: Smaller bandwidth, more clusters, as fewer points are grouped together.\\n\""
            ],
            "application/vnd.google.colaboratory.intrinsic+json": {
              "type": "string"
            }
          },
          "metadata": {},
          "execution_count": 32
        }
      ]
    },
    {
      "cell_type": "code",
      "source": [
        "ms = MeanShift(bandwidth = bandwidth, bin_seeding = True)\n",
        "ms.fit(x)\n",
        "\n",
        "'''\n",
        "Bin Seeding in MeanShift\n",
        "Purpose:\n",
        "Bin seeding is used to reduce the number of initial seeds (starting points for clustering) by placing\n",
        "them on a grid rather than starting with every data point.\n",
        "\n",
        "Benefits:\n",
        "This can significantly speed up the clustering process, especially for large datasets, because\n",
        "it reduces the number of points the algorithm needs to consider during the iterative process.\n",
        "'''\n",
        "\n",
        "labels = ms.labels_\n",
        "cluster_centers = ms.cluster_centers_"
      ],
      "metadata": {
        "id": "5L5Kyrj85eqF"
      },
      "execution_count": 35,
      "outputs": []
    },
    {
      "cell_type": "code",
      "source": [
        "labels_unique = np.unique(labels)\n",
        "n_clusters_ = len(labels_unique)\n",
        "\n",
        "print(\"number of estimated clusters : %d\" % n_clusters_)"
      ],
      "metadata": {
        "colab": {
          "base_uri": "https://localhost:8080/"
        },
        "id": "SF3rWtPNWBqH",
        "outputId": "169782ca-5ee1-4c57-91af-d8dcbf0ef1d2"
      },
      "execution_count": 31,
      "outputs": [
        {
          "output_type": "stream",
          "name": "stdout",
          "text": [
            "number of estimated clusters : 4\n"
          ]
        }
      ]
    },
    {
      "cell_type": "code",
      "source": [
        "print(\"Cluster Centers:\\n\", cluster_centers)"
      ],
      "metadata": {
        "colab": {
          "base_uri": "https://localhost:8080/"
        },
        "id": "aJaxCQj96jFH",
        "outputId": "e56f6f1c-ac74-49ed-e993-d1ff01280086"
      },
      "execution_count": 36,
      "outputs": [
        {
          "output_type": "stream",
          "name": "stdout",
          "text": [
            "Cluster Centers:\n",
            " [[ 4.10664385  8.66151044]\n",
            " [ 1.49536841  3.66583722]\n",
            " [10.07084429 14.80057729]\n",
            " [ 9.99727994 19.88728479]]\n"
          ]
        }
      ]
    },
    {
      "cell_type": "code",
      "source": [
        "print(\"Labels:\\n\", labels)"
      ],
      "metadata": {
        "colab": {
          "base_uri": "https://localhost:8080/"
        },
        "id": "9A3ju4d16mHC",
        "outputId": "c665a953-e362-490d-a87d-6887da0e2f00"
      },
      "execution_count": 37,
      "outputs": [
        {
          "output_type": "stream",
          "name": "stdout",
          "text": [
            "Labels:\n",
            " [0 1 0 2 0 0 2 1 0 1 3 0 3 3 2 1 0 1 0 0 1 0 1 1 0 0 0 1 0 1 1 0 1 0 0 0 1\n",
            " 3 1 1 3 0 3 3 0 0 2 3 2 3 0 2 2 0 0 1 0 0 0 2 0 2 1 1 1 1 2 1 0 2 0 0 0 1\n",
            " 0 1 0 0 2 3 3 0 3 1 3 1 1 0 2 1 0 3 0 0 0 0 0 1 2 1]\n"
          ]
        }
      ]
    },
    {
      "cell_type": "code",
      "source": [
        "print(\"Coordinates:\\n\", x)"
      ],
      "metadata": {
        "colab": {
          "base_uri": "https://localhost:8080/"
        },
        "id": "lKz_2Mrg6q1p",
        "outputId": "8e176038-7ad7-4f71-cd76-0c13da9e103d"
      },
      "execution_count": 38,
      "outputs": [
        {
          "output_type": "stream",
          "name": "stdout",
          "text": [
            "Coordinates:\n",
            " [[ 5.42396712  8.24302113]\n",
            " [ 1.64723483  2.87471551]\n",
            " [ 3.18033749  8.20608026]\n",
            " [10.10956296 15.64339517]\n",
            " [ 5.46994368 10.72330751]\n",
            " [ 3.96816237 10.22414217]\n",
            " [ 9.96016408 15.15444954]\n",
            " [ 1.9367494   4.91937636]\n",
            " [ 3.98903888  7.68911715]\n",
            " [ 2.14097215  4.9139719 ]\n",
            " [10.5298237  19.8626616 ]\n",
            " [ 4.11234364  8.32002307]\n",
            " [10.99217119 20.75629536]\n",
            " [ 9.7947207  19.67405341]\n",
            " [10.47365884 13.48915061]\n",
            " [ 1.56680563  1.7199574 ]\n",
            " [ 3.91435127  7.91199958]\n",
            " [ 2.77020414  4.78613267]\n",
            " [ 4.7477085   7.82492955]\n",
            " [ 3.21873201  7.50879313]\n",
            " [ 2.06914226  5.1547656 ]\n",
            " [ 4.63848081 10.24631656]\n",
            " [ 0.10596611  2.27583694]\n",
            " [ 2.67805772  5.53756729]\n",
            " [ 3.28788065  8.03277319]\n",
            " [ 2.4021781   8.11562792]\n",
            " [ 3.56064195  7.94187106]\n",
            " [ 1.75878855  4.8872283 ]\n",
            " [ 2.85818663  9.02982643]\n",
            " [ 1.65674911  1.52233712]\n",
            " [-0.36241319  2.56699324]\n",
            " [ 2.54848276  8.36052611]\n",
            " [ 0.67107142  1.0077542 ]\n",
            " [ 5.09233121  7.03013427]\n",
            " [ 4.91373661  7.59307324]\n",
            " [ 5.7621107   7.06162494]\n",
            " [ 1.5748347   5.40233933]\n",
            " [ 9.72310228 20.82652264]\n",
            " [ 1.76170688  2.9239483 ]\n",
            " [ 1.45117782  1.84248511]\n",
            " [10.44869982 19.26132961]\n",
            " [ 5.41594796  7.8109672 ]\n",
            " [10.37467368 19.7117134 ]\n",
            " [10.0562826  18.54322389]\n",
            " [ 3.16289078 10.18582695]\n",
            " [ 4.37353343  9.79400478]\n",
            " [ 9.87322537 14.8007683 ]\n",
            " [ 9.97964058 19.89034682]\n",
            " [10.03358261 14.92454997]\n",
            " [ 9.71453526 19.87269572]\n",
            " [ 4.32359627 10.3205227 ]\n",
            " [ 9.63110855 14.87210161]\n",
            " [ 8.84181712 15.59220227]\n",
            " [ 4.31985234 10.36692046]\n",
            " [ 4.00723259  7.71883486]\n",
            " [ 0.39711905  1.44935775]\n",
            " [ 2.59374902  7.60925981]\n",
            " [ 5.5282228   8.10533354]\n",
            " [ 4.94686239  9.83027119]\n",
            " [10.40740091 14.85659732]\n",
            " [ 3.24656982  9.16058322]\n",
            " [ 9.95951317 15.49549559]\n",
            " [ 1.29006065  2.55192598]\n",
            " [ 1.43181478  2.32674935]\n",
            " [ 1.96798195  4.90976   ]\n",
            " [ 2.68172546  4.24371714]\n",
            " [10.63537861 14.33805086]\n",
            " [ 0.8473468   2.34937476]\n",
            " [ 3.91822968  8.49693677]\n",
            " [10.80405853 15.01721704]\n",
            " [ 4.11190441  9.77212455]\n",
            " [ 3.93746842  9.89526596]\n",
            " [ 5.56204651  8.22541893]\n",
            " [ 2.63829845  5.0445791 ]\n",
            " [ 3.58991013 11.23913764]\n",
            " [-0.36535301  1.75731737]\n",
            " [ 5.67441187  7.96658872]\n",
            " [ 3.65288574  9.0604505 ]\n",
            " [10.57295213 14.20795387]\n",
            " [ 9.64497031 19.89279887]\n",
            " [ 9.49160921 21.44205796]\n",
            " [ 3.1599519   8.91226488]\n",
            " [ 9.72360007 18.84774254]\n",
            " [ 2.41284674  5.36469879]\n",
            " [10.22425588 19.30301886]\n",
            " [ 0.31570811  2.94494306]\n",
            " [ 1.83403652  6.0011869 ]\n",
            " [ 4.7212843   8.92232859]\n",
            " [10.62822355 14.21376466]\n",
            " [ 1.4602799   5.43389349]\n",
            " [ 4.73718792  7.01737948]\n",
            " [ 9.26383382 20.53752643]\n",
            " [ 3.69983113  7.3189849 ]\n",
            " [ 2.24955788  7.90996501]\n",
            " [ 3.63627469  8.5575557 ]\n",
            " [ 3.85881541 10.54324544]\n",
            " [ 5.06885392  7.64159   ]\n",
            " [ 1.00638492  4.34075759]\n",
            " [ 9.06117359 14.60238526]\n",
            " [ 2.02038594  5.25560875]]\n"
          ]
        }
      ]
    },
    {
      "cell_type": "code",
      "source": [
        "print(\"Labels Unique:\\n\", labels_unique)"
      ],
      "metadata": {
        "colab": {
          "base_uri": "https://localhost:8080/"
        },
        "id": "SyWo1mmZ6tpw",
        "outputId": "e18cc70b-7e88-4963-808d-74836648b056"
      },
      "execution_count": 39,
      "outputs": [
        {
          "output_type": "stream",
          "name": "stdout",
          "text": [
            "Labels Unique:\n",
            " [0 1 2 3]\n"
          ]
        }
      ]
    }
  ]
}